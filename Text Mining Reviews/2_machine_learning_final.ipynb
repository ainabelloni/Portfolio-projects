{
 "cells": [
  {
   "cell_type": "code",
   "execution_count": null,
   "metadata": {
    "id": "rohHcoh9Outf"
   },
   "outputs": [],
   "source": [
    "%%capture \n",
    "%pip install IPython\n",
    "%pip install wordcloud \n",
    "%pip install multidict\n",
    "import string\n",
    "import matplotlib.pyplot as plt\n",
    "import numpy as np\n",
    "import pandas as pd\n",
    "import spacy\n",
    "import multidict as multidict\n",
    "import os\n",
    "import re\n",
    "import operator\n",
    "import plotly.express as px\n",
    "import seaborn as sns\n",
    "\n",
    "from spacy.lang.en.stop_words import STOP_WORDS\n",
    "from spacy.lang.en import English\n",
    "from IPython.display import HTML, display, Image\n",
    "\n",
    "from PIL import Image\n",
    "from nltk.corpus import stopwords\n",
    "from os import path\n",
    "from sklearn import metrics\n",
    "from wordcloud import WordCloud\n",
    "from collections import Counter\n",
    "from google.colab import files\n",
    "from sklearn.pipeline import Pipeline\n",
    "from sklearn.feature_extraction.text import TfidfVectorizer\n",
    "from sklearn.svm import LinearSVC\n"
   ]
  },
  {
   "cell_type": "code",
   "execution_count": null,
   "metadata": {
    "colab": {
     "base_uri": "https://localhost:8080/"
    },
    "id": "hIyZlrJRPkt8",
    "outputId": "cf370897-d453-4a77-bce1-aa0a701f78c4"
   },
   "outputs": [
    {
     "name": "stdout",
     "output_type": "stream",
     "text": [
      "Mounted at /content/drive\n"
     ]
    }
   ],
   "source": [
    "from google.colab import drive\n",
    "drive.mount('/content/drive', force_remount=True)"
   ]
  },
  {
   "cell_type": "code",
   "execution_count": null,
   "metadata": {
    "id": "drftyxxlPn0p"
   },
   "outputs": [],
   "source": [
    "nlp = spacy.load('en_core_web_sm')"
   ]
  },
  {
   "cell_type": "code",
   "execution_count": null,
   "metadata": {
    "id": "u4H98kOcPtKN"
   },
   "outputs": [],
   "source": [
    "#Import dataset with stopwords removed\n",
    "#GIULI\n",
    "#train = pd.read_csv('/content/drive/MyDrive/Colab Notebooks/progetto text mining/CSV/new_train2.csv')\n",
    "#test = pd.read_csv('/content/drive/MyDrive/Colab Notebooks/progetto text mining/CSV/new_test2.csv')\n",
    "\n",
    "#FRA\n",
    "train = pd.read_csv('/content/drive/MyDrive/progetto text mining/CSV/new_train2.csv')\n",
    "test = pd.read_csv('/content/drive/MyDrive/progetto text mining/CSV/new_test2.csv')\n"
   ]
  },
  {
   "cell_type": "code",
   "execution_count": null,
   "metadata": {
    "id": "9SP-mcSaP6Kn"
   },
   "outputs": [],
   "source": [
    "#Removing Nan from the dataset\n",
    "train.dropna(inplace=True)\n",
    "train.reset_index(drop=True, inplace=True)\n",
    "test.dropna(inplace=True)\n",
    "test.reset_index(drop=True, inplace=True)\n",
    "frames = [train, test]\n",
    "df = pd.concat(frames, ignore_index = True)"
   ]
  },
  {
   "cell_type": "markdown",
   "metadata": {
    "id": "lrbao8TWQcpa"
   },
   "source": [
    "# <h1><center><strong>$$\\color{#4740BF}{\\text{2. Supervised Machine Learning}}$$<strong></h3>\n"
   ]
  },
  {
   "cell_type": "markdown",
   "metadata": {
    "id": "mVvbRxOA3T1d"
   },
   "source": [
    "In this section of the project will be performed classification on the reviews. The algorithms used belong to the family of the supervised machine learning algorithm. These are algorithms that obtain input from the supervisor and learn from that input how to classify the text.\n",
    "To achieve this aim the dataset has been divided into training and text and into x (review) and y (label)."
   ]
  },
  {
   "cell_type": "markdown",
   "metadata": {
    "id": "RnadvgT4XSzs"
   },
   "source": [
    "\n",
    "### <h1><center><strong>$$\\color{#4740BF}{\\text{Linear SVC on 5 Lables}}$$<strong></h3>"
   ]
  },
  {
   "cell_type": "code",
   "execution_count": null,
   "metadata": {
    "id": "5OlhKTfcQoPz"
   },
   "outputs": [],
   "source": [
    "X_train = train['review']\n",
    "X_test = test['review']\n",
    "y_train = train['label']\n",
    "y_test = test['label']"
   ]
  },
  {
   "cell_type": "markdown",
   "metadata": {
    "id": "KuBuc51fQgTy"
   },
   "source": [
    "Then we built a pipelines to vectorize the data, then train and fit a model. We have used `TFIDF` (term frequency–inverse document frequency) that do vectorization assigning a value that increases depending on the importance of a token and it decreases depending on its frequency in the text (it penalizes popular terms). \n",
    "The algorithm used is Linear Support Vector Classification (SVC) that applies a linear kernel function to perform classification.\n"
   ]
  },
  {
   "cell_type": "code",
   "execution_count": null,
   "metadata": {
    "id": "wuiJckypQ7b8"
   },
   "outputs": [],
   "source": [
    "# Linear Support Vector Classification:\n",
    "text_clf_lsvc = Pipeline([('tfidf', TfidfVectorizer()),\n",
    "                     ('clf', LinearSVC()),\n",
    "])"
   ]
  },
  {
   "cell_type": "code",
   "execution_count": null,
   "metadata": {
    "colab": {
     "base_uri": "https://localhost:8080/"
    },
    "id": "86oQp4dkRqv0",
    "outputId": "036a6d7d-bd6e-4599-9936-1b16010e35cd"
   },
   "outputs": [
    {
     "name": "stdout",
     "output_type": "stream",
     "text": [
      "CPU times: user 3min 57s, sys: 1.48 s, total: 3min 58s\n",
      "Wall time: 3min 58s\n"
     ]
    },
    {
     "data": {
      "text/plain": [
       "Pipeline(steps=[('tfidf', TfidfVectorizer()), ('clf', LinearSVC())])"
      ]
     },
     "execution_count": 194,
     "metadata": {},
     "output_type": "execute_result"
    }
   ],
   "source": [
    "%%time\n",
    "text_clf_lsvc.fit(X_train, y_train)"
   ]
  },
  {
   "cell_type": "markdown",
   "metadata": {
    "id": "mwnJFynnRuAW"
   },
   "source": [
    "Now with the results of the Linear SVC we get the prediction on the test set and plot the Confusion Matrix:"
   ]
  },
  {
   "cell_type": "code",
   "execution_count": null,
   "metadata": {
    "id": "bu52lOFWRusE"
   },
   "outputs": [],
   "source": [
    "# Form a prediction set\n",
    "predictions = text_clf_lsvc.predict(X_test)"
   ]
  },
  {
   "cell_type": "code",
   "execution_count": null,
   "metadata": {
    "colab": {
     "base_uri": "https://localhost:8080/"
    },
    "id": "3v3JPjNVMkl9",
    "outputId": "394d4586-4f6f-4500-fd57-1fcd38531675"
   },
   "outputs": [
    {
     "data": {
      "text/plain": [
       "array([[7671, 1687,  321,  116,  204],\n",
       "       [2758, 4466, 2008,  483,  285],\n",
       "       [ 709, 2092, 4299, 2174,  726],\n",
       "       [ 236,  461, 1938, 4371, 2994],\n",
       "       [ 203,  169,  463, 2058, 7107]])"
      ]
     },
     "execution_count": 196,
     "metadata": {},
     "output_type": "execute_result"
    }
   ],
   "source": [
    "# Report the confusion matrix\n",
    "cf_matrix = metrics.confusion_matrix(y_test,predictions)\n",
    "cf_matrix "
   ]
  },
  {
   "cell_type": "code",
   "execution_count": null,
   "metadata": {
    "id": "LlqEdYJXMA9e"
   },
   "outputs": [],
   "source": [
    "group_counts = [\"{0:0.0f}\".format(value) for value in\n",
    "                cf_matrix.flatten()]\n",
    "group_percentages = [\"{0:.2%}\".format(value) for value in\n",
    "                     cf_matrix.flatten()/np.sum(cf_matrix)]\n",
    "labels = [f\"{v2}\\n{v3}\" for v2, v3 in zip(group_counts,group_percentages)]\n",
    "labels = np.asarray(labels).reshape(5,5)"
   ]
  },
  {
   "cell_type": "code",
   "execution_count": null,
   "metadata": {
    "colab": {
     "base_uri": "https://localhost:8080/",
     "height": 264
    },
    "id": "QVyuNWlnMDTi",
    "outputId": "a51386f2-620c-4a49-f992-6da167adface"
   },
   "outputs": [
    {
     "data": {
      "text/html": [
       "\n",
       "<style>\n",
       "#output-body {\n",
       "    display: flex;\n",
       "    align-items: center;\n",
       "    justify-content: center;\n",
       "}\n",
       "</style>\n"
      ],
      "text/plain": [
       "<IPython.core.display.HTML object>"
      ]
     },
     "metadata": {},
     "output_type": "display_data"
    },
    {
     "data": {
      "image/png": "[encoded data removed]",
      "text/plain": [
       "<Figure size 432x288 with 2 Axes>"
      ]
     },
     "metadata": {
      "needs_background": "light"
     },
     "output_type": "display_data"
    }
   ],
   "source": [
    "display(HTML(\"\"\"\n",
    "<style>\n",
    "#output-body {\n",
    "    display: flex;\n",
    "    align-items: center;\n",
    "    justify-content: center;\n",
    "}\n",
    "</style>\n",
    "\"\"\"))\n",
    "\n",
    "sns.heatmap(cf_matrix, annot=labels, fmt='', cmap='Blues')\n",
    "None"
   ]
  },
  {
   "cell_type": "markdown",
   "metadata": {
    "id": "P9TQE-nNFTwi"
   },
   "source": [
    "As it is possible to notice from the heat map the model perform well in predicting the categories 1 and 5 but has some difficulties in the categories in the middle that tend to be more accurate. Anyway the predictions seems to be quite accurate."
   ]
  },
  {
   "cell_type": "markdown",
   "metadata": {
    "id": "GDzPGUvaGF_C"
   },
   "source": [
    "Looking at the chart below it is possible to observe some indices that allows us to evaluate the model. "
   ]
  },
  {
   "cell_type": "code",
   "execution_count": null,
   "metadata": {
    "colab": {
     "base_uri": "https://localhost:8080/"
    },
    "id": "IpDe7OckMncg",
    "outputId": "e2ca8ce6-d52b-4a63-e3a6-b2b850364347"
   },
   "outputs": [
    {
     "name": "stdout",
     "output_type": "stream",
     "text": [
      "              precision    recall  f1-score   support\n",
      "\n",
      "           1       0.66      0.77      0.71      9999\n",
      "           2       0.50      0.45      0.47     10000\n",
      "           3       0.48      0.43      0.45     10000\n",
      "           4       0.48      0.44      0.46     10000\n",
      "           5       0.63      0.71      0.67     10000\n",
      "\n",
      "    accuracy                           0.56     49999\n",
      "   macro avg       0.55      0.56      0.55     49999\n",
      "weighted avg       0.55      0.56      0.55     49999\n",
      "\n"
     ]
    }
   ],
   "source": [
    "# Print a classification report\n",
    "print(metrics.classification_report(y_test,predictions))"
   ]
  },
  {
   "cell_type": "markdown",
   "metadata": {
    "id": "iLqfCs6dUkZg"
   },
   "source": [
    "The whole accuracy of the model is 55.83% that is better than assign label by chance (because we have 5 classes). As it was predictable from the confusion matrix also the values of precision, recall and f1-score are higher for the external labels while they are all less or equal than 50% in the middle categories. "
   ]
  },
  {
   "cell_type": "code",
   "execution_count": null,
   "metadata": {
    "colab": {
     "base_uri": "https://localhost:8080/"
    },
    "id": "wINHafuHMp77",
    "outputId": "07bf8122-1c79-4769-a80b-00f115675406"
   },
   "outputs": [
    {
     "name": "stdout",
     "output_type": "stream",
     "text": [
      "55.83 %\n"
     ]
    }
   ],
   "source": [
    "# Print the overall accuracy\n",
    "print(round((metrics.accuracy_score(y_test,predictions))*100, 2), \"%\")"
   ]
  },
  {
   "cell_type": "markdown",
   "metadata": {
    "id": "p1kIL6tgXWEz"
   },
   "source": [
    "\n",
    "### <h1><center><strong>$$\\color{#4740BF}{\\text{Linear SVC on 3 Categories}}$$<strong></h3>"
   ]
  },
  {
   "cell_type": "markdown",
   "metadata": {
    "id": "D2VZgmcRR6Sm"
   },
   "source": [
    "Based on these result we tried to run the same model but splitting the dataset into 3 categories that correspond to positive revies (label = 4 or 5), negative reviws (label = 1 or 2 ) and neutral reviws (label = 3). We expect that with this new categories the result would be better. \n",
    "We also balanced the new dataframe so that the numbers of positive, negative and neutral reviws are similar. To achieve this result we need to reduce the dimension of the training dataframe that now has shape (389988, 2). "
   ]
  },
  {
   "cell_type": "code",
   "execution_count": null,
   "metadata": {
    "colab": {
     "base_uri": "https://localhost:8080/",
     "height": 221
    },
    "id": "22VTO5NsShK-",
    "outputId": "7e9ff676-f95b-4aba-9965-b2187f568946"
   },
   "outputs": [
    {
     "name": "stdout",
     "output_type": "stream",
     "text": [
      "pos (129996, 2) neut (129996, 2) neg (129996, 2)\n"
     ]
    },
    {
     "data": {
      "text/html": [
       "<div>\n",
       "<style scoped>\n",
       "    .dataframe tbody tr th:only-of-type {\n",
       "        vertical-align: middle;\n",
       "    }\n",
       "\n",
       "    .dataframe tbody tr th {\n",
       "        vertical-align: top;\n",
       "    }\n",
       "\n",
       "    .dataframe thead th {\n",
       "        text-align: right;\n",
       "    }\n",
       "</style>\n",
       "<table border=\"1\" class=\"dataframe\">\n",
       "  <thead>\n",
       "    <tr style=\"text-align: right;\">\n",
       "      <th></th>\n",
       "      <th>review</th>\n",
       "      <th>cat</th>\n",
       "    </tr>\n",
       "  </thead>\n",
       "  <tbody>\n",
       "    <tr>\n",
       "      <th>0</th>\n",
       "      <td>restaurant overrated think stars fair rating f...</td>\n",
       "      <td>neut</td>\n",
       "    </tr>\n",
       "    <tr>\n",
       "      <th>1</th>\n",
       "      <td>lately not things ready stock tell want going ...</td>\n",
       "      <td>neut</td>\n",
       "    </tr>\n",
       "    <tr>\n",
       "      <th>2</th>\n",
       "      <td>went monday january 2014 groupon deal kind slo...</td>\n",
       "      <td>neut</td>\n",
       "    </tr>\n",
       "    <tr>\n",
       "      <th>3</th>\n",
       "      <td>vegas convention weekend came big group people...</td>\n",
       "      <td>neut</td>\n",
       "    </tr>\n",
       "    <tr>\n",
       "      <th>4</th>\n",
       "      <td>great day indoors instructor rob great calm pa...</td>\n",
       "      <td>pos</td>\n",
       "    </tr>\n",
       "  </tbody>\n",
       "</table>\n",
       "</div>"
      ],
      "text/plain": [
       "                                              review   cat\n",
       "0  restaurant overrated think stars fair rating f...  neut\n",
       "1  lately not things ready stock tell want going ...  neut\n",
       "2  went monday january 2014 groupon deal kind slo...  neut\n",
       "3  vegas convention weekend came big group people...  neut\n",
       "4  great day indoors instructor rob great calm pa...   pos"
      ]
     },
     "execution_count": 201,
     "metadata": {},
     "output_type": "execute_result"
    }
   ],
   "source": [
    "train[\"cat\"] = train[\"label\"]\n",
    "train[\"cat\"].replace({1: \"neg\", 2: \"neg\", 3: \"neut\", 4: \"pos\", 5: \"pos\"}, inplace=True)\n",
    "del train[\"label\"]\n",
    "test[\"cat\"] = test[\"label\"]\n",
    "test[\"cat\"].replace({1: \"neg\", 2: \"neg\", 3: \"neut\", 4: \"pos\", 5: \"pos\"}, inplace=True)\n",
    "del test[\"label\"]\n",
    "\n",
    "#Balancing Train set\n",
    "from sklearn.utils import shuffle\n",
    "pos_train_subset = train[train[\"cat\"]==\"pos\"].sample(n=len(train[train[\"cat\"]==\"neut\"]),random_state=28)\n",
    "neut_train_subset = train[train[\"cat\"]==\"neut\"]\n",
    "neg_train_subset = train[train[\"cat\"]==\"neg\"].sample(n=len(train[train[\"cat\"]==\"neut\"]),random_state=98)\n",
    "print(\"pos\", pos_train_subset.shape, \"neut\", neut_train_subset.shape, \"neg\",neg_train_subset.shape)\n",
    "train_sub = shuffle(pd.concat([pos_train_subset, neut_train_subset, neg_train_subset], ignore_index = True))\n",
    "train_sub.reset_index(drop=True, inplace=True)\n",
    "train_sub.head()"
   ]
  },
  {
   "cell_type": "markdown",
   "metadata": {
    "id": "WDfWy3ORWq2W"
   },
   "source": [
    "Now the whole procedure as before is applied on the new dataframe on the category `cat`"
   ]
  },
  {
   "cell_type": "code",
   "execution_count": null,
   "metadata": {
    "id": "E1TrJ-HKxaK_"
   },
   "outputs": [],
   "source": [
    "X_train = train_sub['review']\n",
    "X_test = test_sub['review']\n",
    "y_train = train_sub['cat']\n",
    "y_test = test_sub['cat']"
   ]
  },
  {
   "cell_type": "code",
   "execution_count": null,
   "metadata": {
    "id": "DA-aLWPayFTK"
   },
   "outputs": [],
   "source": [
    "text_clf_lsvc.fit(X_train, y_train)\n",
    "predictions = text_clf_lsvc.predict(X_test)"
   ]
  },
  {
   "cell_type": "code",
   "execution_count": null,
   "metadata": {
    "id": "GxNf6jNZybTs"
   },
   "outputs": [],
   "source": [
    "cf_matrix = metrics.confusion_matrix(y_test,predictions) "
   ]
  },
  {
   "cell_type": "code",
   "execution_count": null,
   "metadata": {
    "id": "HxquQBdBycG9"
   },
   "outputs": [],
   "source": [
    "group_counts = [\"{0:0.0f}\".format(value) for value in\n",
    "                cf_matrix.flatten()]\n",
    "group_percentages = [\"{0:.2%}\".format(value) for value in\n",
    "                     cf_matrix.flatten()/np.sum(cf_matrix)]\n",
    "labels = [f\"{v2}\\n{v3}\" for v2, v3 in zip(group_counts,group_percentages)]\n",
    "\n",
    "labels = np.asarray(labels).reshape(3,3)"
   ]
  },
  {
   "cell_type": "code",
   "execution_count": null,
   "metadata": {
    "colab": {
     "base_uri": "https://localhost:8080/",
     "height": 264
    },
    "id": "JkLJfmmIy4aZ",
    "outputId": "14794015-e553-4670-cac6-9f7acd27b869"
   },
   "outputs": [
    {
     "data": {
      "text/html": [
       "\n",
       "<style>\n",
       "#output-body {\n",
       "    display: flex;\n",
       "    align-items: center;\n",
       "    justify-content: center;\n",
       "}\n",
       "</style>\n"
      ],
      "text/plain": [
       "<IPython.core.display.HTML object>"
      ]
     },
     "metadata": {},
     "output_type": "display_data"
    },
    {
     "data": {
      "image/png": "[encoded data removed]",
      "text/plain": [
       "<Figure size 432x288 with 2 Axes>"
      ]
     },
     "metadata": {
      "needs_background": "light"
     },
     "output_type": "display_data"
    }
   ],
   "source": [
    "display(HTML(\"\"\"\n",
    "<style>\n",
    "#output-body {\n",
    "    display: flex;\n",
    "    align-items: center;\n",
    "    justify-content: center;\n",
    "}\n",
    "</style>\n",
    "\"\"\"))\n",
    "sns.heatmap(cf_matrix, annot=labels, fmt='', cmap='Blues')\n",
    "None"
   ]
  },
  {
   "cell_type": "code",
   "execution_count": null,
   "metadata": {
    "colab": {
     "base_uri": "https://localhost:8080/"
    },
    "id": "m13jYwkyyb8o",
    "outputId": "a5b60bd1-9dfc-4197-ce13-2de48af5e370"
   },
   "outputs": [
    {
     "name": "stdout",
     "output_type": "stream",
     "text": [
      "              precision    recall  f1-score   support\n",
      "\n",
      "         neg       0.76      0.79      0.77     10000\n",
      "        neut       0.63      0.58      0.60     10000\n",
      "         pos       0.76      0.78      0.77     10000\n",
      "\n",
      "    accuracy                           0.72     30000\n",
      "   macro avg       0.71      0.72      0.71     30000\n",
      "weighted avg       0.71      0.72      0.71     30000\n",
      "\n"
     ]
    }
   ],
   "source": [
    "# Print a classification report\n",
    "print(metrics.classification_report(y_test,predictions))"
   ]
  },
  {
   "cell_type": "code",
   "execution_count": null,
   "metadata": {
    "colab": {
     "base_uri": "https://localhost:8080/"
    },
    "id": "q_9lS_zyyb__",
    "outputId": "03875e47-3f3f-4102-84a7-ea5180ac73f0"
   },
   "outputs": [
    {
     "name": "stdout",
     "output_type": "stream",
     "text": [
      "71.69 %\n"
     ]
    }
   ],
   "source": [
    "# Print the overall accuracy\n",
    "print(round((metrics.accuracy_score(y_test,predictions))*100, 2), \"%\")"
   ]
  },
  {
   "cell_type": "markdown",
   "metadata": {
    "id": "KiM-TMmFymcT"
   },
   "source": [
    " \n",
    "As it was predicted, the accuracy is increased in this case (71.69% compared to 55.83%).The algorithm is pretty good in predicting the 3 categories and it is really fast. As before the false positves and false negatives usually occur for \"contiguos categories\" ie the algorithm usually do not confuse negative and positive reviews but only negative and neutral or neutral and positive. "
   ]
  }
 ],
 "metadata": {
  "colab": {
   "collapsed_sections": [],
   "name": "project2_machine_learning.ipynb",
   "provenance": []
  },
  "kernelspec": {
   "display_name": "Python 3",
   "language": "python",
   "name": "python3"
  },
  "language_info": {
   "codemirror_mode": {
    "name": "ipython",
    "version": 3
   },
   "file_extension": ".py",
   "mimetype": "text/x-python",
   "name": "python",
   "nbconvert_exporter": "python",
   "pygments_lexer": "ipython3",
   "version": "3.8.5"
  }
 },
 "nbformat": 4,
 "nbformat_minor": 1
}
