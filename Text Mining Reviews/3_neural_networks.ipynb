{
 "cells": [
  {
   "cell_type": "code",
   "execution_count": 37,
   "metadata": {
    "_cell_guid": "6c53202d-5c34-4859-e7e9-8ef5c7068287",
    "_uuid": "717bb968c36b9325c7d4cae5724a3672e49ff243",
    "id": "tEWBWH1-OKgo",
    "scrolled": true
   },
   "outputs": [],
   "source": [
    "from tensorflow import keras \n",
    "import numpy as np # linear algebra  \n",
    "import pandas as pd # data processing, CSV file I/O (e.g. pd.read_csv)\n",
    "from sklearn.feature_extraction.text import CountVectorizer\n",
    "from keras.preprocessing.text import Tokenizer\n",
    "from keras.preprocessing.sequence import pad_sequences\n",
    "from keras.models import Sequential\n",
    "from keras.layers import Dense, Embedding, LSTM, SpatialDropout1D\n",
    "from sklearn.model_selection import train_test_split\n",
    "from keras.utils.np_utils import to_categorical\n",
    "import re\n",
    "import os\n",
    "from tensorflow.keras.utils import to_categorical, plot_model\n",
    "from tensorflow.keras.callbacks import ModelCheckpoint, EarlyStopping\n",
    "\n",
    "from tensorflow.keras.models import Sequential\n",
    "from tensorflow.keras.layers import Dense, LSTM, Embedding, Dropout, Bidirectional # , TimeDistributed\n",
    "from tensorflow.keras.metrics import Precision, Recall\n",
    "from tensorflow.keras.optimizers import SGD\n"
   ]
  },
  {
   "cell_type": "code",
   "execution_count": 38,
   "metadata": {
    "colab": {
     "base_uri": "https://localhost:8080/"
    },
    "id": "Xsua54DbON0d",
    "outputId": "ce9a49b5-cc21-410c-f8a8-d25ddb9b7df4"
   },
   "outputs": [],
   "source": [
    "#from google.colab import drive\n",
    "#drive.mount('/content/drive', force_remount=True)"
   ]
  },
  {
   "cell_type": "code",
   "execution_count": 39,
   "metadata": {
    "id": "LqA9sSPCLoSR"
   },
   "outputs": [],
   "source": [
    "#data_dir = os.path.join('data', 'conll03')\n",
    "train = pd.read_csv(\"C:\\\\Users\\\\Aina\\\\Documents\\\\CATTOLICA\\\\SECONDO ANNO\\\\DATA VISUALIZATION AND TEXT MINING\\\\text\\\\project\\\\new_train2.csv\")\n",
    "test = pd.read_csv(\"C:\\\\Users\\\\Aina\\\\Documents\\\\CATTOLICA\\\\SECONDO ANNO\\\\DATA VISUALIZATION AND TEXT MINING\\\\text\\\\project\\\\new_test2.csv\")"
   ]
  },
  {
   "cell_type": "code",
   "execution_count": 40,
   "metadata": {
    "id": "NNU9-jLhONj-"
   },
   "outputs": [],
   "source": [
    "#GIULIA\n",
    "#train = pd.read_csv('/content/drive/MyDrive/Colab Notebooks/progetto text mining/new_train2.csv')\n",
    "#test = pd.read_csv('/content/drive/MyDrive/Colab Notebooks/progetto text mining/new_test2.csv')\n",
    "\n",
    "#FRA\n",
    "#train = pd.read_csv('/content/drive/MyDrive/progetto text mining/CSV/new_train2.csv')\n",
    "#test = pd.read_csv('/content/drive/MyDrive/progetto text mining/CSV/new_test2.csv')"
   ]
  },
  {
   "cell_type": "code",
   "execution_count": 41,
   "metadata": {
    "colab": {
     "base_uri": "https://localhost:8080/"
    },
    "id": "0c2x2s-HZv_c",
    "outputId": "3b3c0eb1-80a9-40de-858f-da590bf9ab32"
   },
   "outputs": [
    {
     "data": {
      "text/plain": [
       "label     0\n",
       "review    0\n",
       "dtype: int64"
      ]
     },
     "execution_count": 41,
     "metadata": {},
     "output_type": "execute_result"
    }
   ],
   "source": [
    "#questo per togliere righe vuote!!!\n",
    "\n",
    "train.isnull().sum()\n",
    "train.dropna(inplace=True)\n",
    "train.reset_index(drop=True, inplace=True)\n",
    "train.isnull().sum()\n",
    "\n",
    "test.isnull().sum()\n",
    "test.dropna(inplace=True)\n",
    "test.reset_index(drop=True, inplace=True)\n",
    "test.isnull().sum()\n"
   ]
  },
  {
   "cell_type": "markdown",
   "metadata": {
    "id": "rBgQ2FTsrJKx"
   },
   "source": [
    "#Neural Network model for classification"
   ]
  },
  {
   "cell_type": "markdown",
   "metadata": {
    "_cell_guid": "5b2497b3-60ee-7cd0-0625-f103214c0ed4",
    "_uuid": "b34dc51c4c60fc1cc8200129e74e7a025fd0cc42",
    "id": "GyIPP3YzOKgY"
   },
   "source": [
    "# LSTM for classification \n"
   ]
  },
  {
   "cell_type": "markdown",
   "metadata": {
    "_cell_guid": "2bc2702e-d6f4-df5f-b80e-50ab23a6d29e",
    "_uuid": "9b520acffb5cd85d0e1ada968ad0f12cee33a4b5",
    "id": "MR7R-cboOKgx"
   },
   "source": [
    "Here we start the processing of the data in order to be prepared for implementing a BiLSTM model.\n",
    "Since the data of the train and test we need to be in the exact same format, we put together in a unique dataframe called 'df'."
   ]
  },
  {
   "cell_type": "code",
   "execution_count": 42,
   "metadata": {
    "colab": {
     "base_uri": "https://localhost:8080/",
     "height": 427
    },
    "id": "KBCT_zQHOKg0",
    "outputId": "ad77a8bb-0445-43a3-f386-0f9b20c0c2e0"
   },
   "outputs": [
    {
     "name": "stdout",
     "output_type": "stream",
     "text": [
      "699940\n",
      "649941\n",
      "49999\n",
      "<class 'pandas.core.frame.DataFrame'>\n",
      "RangeIndex: 699940 entries, 0 to 699939\n",
      "Data columns (total 2 columns):\n",
      " #   Column  Non-Null Count   Dtype \n",
      "---  ------  --------------   ----- \n",
      " 0   label   699940 non-null  int64 \n",
      " 1   review  699940 non-null  object\n",
      "dtypes: int64(1), object(1)\n",
      "memory usage: 10.7+ MB\n"
     ]
    },
    {
     "data": {
      "text/html": [
       "<div>\n",
       "<style scoped>\n",
       "    .dataframe tbody tr th:only-of-type {\n",
       "        vertical-align: middle;\n",
       "    }\n",
       "\n",
       "    .dataframe tbody tr th {\n",
       "        vertical-align: top;\n",
       "    }\n",
       "\n",
       "    .dataframe thead th {\n",
       "        text-align: right;\n",
       "    }\n",
       "</style>\n",
       "<table border=\"1\" class=\"dataframe\">\n",
       "  <thead>\n",
       "    <tr style=\"text-align: right;\">\n",
       "      <th></th>\n",
       "      <th>label</th>\n",
       "      <th>review</th>\n",
       "    </tr>\n",
       "  </thead>\n",
       "  <tbody>\n",
       "    <tr>\n",
       "      <th>699935</th>\n",
       "      <td>1</td>\n",
       "      <td>wanted write review chip said not recommend go...</td>\n",
       "    </tr>\n",
       "    <tr>\n",
       "      <th>699936</th>\n",
       "      <td>5</td>\n",
       "      <td>great ambience great drinks great food love place</td>\n",
       "    </tr>\n",
       "    <tr>\n",
       "      <th>699937</th>\n",
       "      <td>4</td>\n",
       "      <td>monks locations excited heard coming sun prair...</td>\n",
       "    </tr>\n",
       "    <tr>\n",
       "      <th>699938</th>\n",
       "      <td>2</td>\n",
       "      <td>not know want try but good reviews people sadl...</td>\n",
       "    </tr>\n",
       "    <tr>\n",
       "      <th>699939</th>\n",
       "      <td>1</td>\n",
       "      <td>buffet recently open renovation husband thinki...</td>\n",
       "    </tr>\n",
       "  </tbody>\n",
       "</table>\n",
       "</div>"
      ],
      "text/plain": [
       "        label                                             review\n",
       "699935      1  wanted write review chip said not recommend go...\n",
       "699936      5  great ambience great drinks great food love place\n",
       "699937      4  monks locations excited heard coming sun prair...\n",
       "699938      2  not know want try but good reviews people sadl...\n",
       "699939      1  buffet recently open renovation husband thinki..."
      ]
     },
     "execution_count": 42,
     "metadata": {},
     "output_type": "execute_result"
    }
   ],
   "source": [
    "#COMMENTO QUESTE DUE RIGHE PER NON FARLO SUL 10% DEL DATASET\n",
    "#train,train_extra = train_test_split(train, test_size = 0.90, random_state = 42)\n",
    "#test, test_extra = train_test_split(test, test_size = 0.90, random_state = 42)\n",
    "\n",
    "\n",
    "frames = [train, test]\n",
    "df = pd.concat(frames, ignore_index = True)\n",
    "print(df.shape[0])\n",
    "print(train.shape[0])\n",
    "print(test.shape[0])\n",
    "\n",
    "df.info()\n",
    "df.tail()"
   ]
  },
  {
   "cell_type": "markdown",
   "metadata": {
    "_cell_guid": "4c0ec63b-cdf8-8e29-812b-0fbbfcea2929",
    "_uuid": "ff12d183224670f9c4c96fd24581b9924d4dff20",
    "id": "lBCDXMJVOKhE"
   },
   "source": [
    "Data has already been filtered so only valid texts and words remain.  Then, I use Tokenizer to vectorize and convert text into Sequences so the Network can deal with it as input.\n"
   ]
  },
  {
   "cell_type": "code",
   "execution_count": 7,
   "metadata": {
    "colab": {
     "base_uri": "https://localhost:8080/"
    },
    "id": "_Q9L4MteOKiZ",
    "outputId": "c360c57b-228c-430a-e8ce-192091f5882a"
   },
   "outputs": [
    {
     "name": "stdout",
     "output_type": "stream",
     "text": [
      "[[763, 36739, 1163, 114, 872, 13233, 9, 392, 522, 9065, 6, 752, 3296, 9803, 1277, 2147, 78735, 1433, 865, 1234, 585, 1494, 86, 3207, 13329, 13053, 169, 86, 336, 191, 32, 1174, 8007, 5077], [404, 4235, 763, 36739, 1482, 1900, 39, 3086, 2241, 2, 1243, 306, 34, 34, 602, 3737, 302, 194, 626, 201, 3998, 1308, 1103, 6, 1423, 226, 364, 277, 3086, 487, 1111, 3296, 2866, 423, 4125, 302, 26080, 88, 11437, 2063, 101, 763, 36739, 75], [25, 763, 36739, 142, 32, 1768, 3296, 246, 122270, 7, 142, 76, 1153, 18540, 763, 78736, 69927, 45504, 290, 1482, 2876, 2458, 2289, 40, 871, 3290, 1423, 383, 6306, 3458, 2866, 1507, 446], [8, 3568, 2072, 230, 20, 763, 36739, 1064, 1097, 48, 4443, 3464, 1375, 32, 1177, 48, 1243, 2241, 100, 4, 529, 191, 631]]\n"
     ]
    }
   ],
   "source": [
    "tokenizer = Tokenizer()\n",
    "tokenizer.fit_on_texts(df['review'].values)\n",
    "X = tokenizer.texts_to_sequences(df['review'].values)\n",
    "print(X[0:4])"
   ]
  },
  {
   "cell_type": "markdown",
   "metadata": {
    "_cell_guid": "9753421e-1303-77d5-b17f-5f25fa08c452",
    "_uuid": "aa7d103e946e631133d86ef3adc73e1a8b1a1e89",
    "id": "gn9ubE5aOKid"
   },
   "source": [
    "The vocabulary size counts how many different words we have, in our case 77547, since it's a very big number as features for the Neural Network we decided to use only 20000 features and use again a Tokenizer to vectorize and convert text into sequences but only for 20000 words."
   ]
  },
  {
   "cell_type": "code",
   "execution_count": 8,
   "metadata": {
    "colab": {
     "base_uri": "https://localhost:8080/"
    },
    "id": "4tM9UOjASaWd",
    "outputId": "4d6672fa-f7b1-4130-ec1e-d4757b5bae82"
   },
   "outputs": [
    {
     "name": "stdout",
     "output_type": "stream",
     "text": [
      "237913\n"
     ]
    }
   ],
   "source": [
    "vocabulary_size = len(tokenizer.word_counts)\n",
    "print(vocabulary_size)"
   ]
  },
  {
   "cell_type": "code",
   "execution_count": 9,
   "metadata": {
    "id": "8NrXi2Yj0w2Z"
   },
   "outputs": [],
   "source": [
    "#max_features=20000\n",
    "#tokenizer = Tokenizer(num_words=max_features, split=' ')\n",
    "#tokenizer.fit_on_texts(df['review'].values)\n",
    "#X = tokenizer.texts_to_sequences(df['review'].values)"
   ]
  },
  {
   "cell_type": "code",
   "execution_count": 10,
   "metadata": {
    "id": "zpS7l5fj7hX_"
   },
   "outputs": [],
   "source": [
    "#len(tokenizer0.word_counts)"
   ]
  },
  {
   "cell_type": "markdown",
   "metadata": {
    "id": "OSAHQaF_uCyB"
   },
   "source": [
    "Now we divide again into train and test and we call X_train the reviews for the train and X_test the reviews of the test. Then we take the label values of the train and test to create Y_train and Y_test which contains a number from 1 to 5 for each review, so the different classes where the reviews are classify."
   ]
  },
  {
   "cell_type": "code",
   "execution_count": 11,
   "metadata": {
    "id": "LBbMXVNJCPzN"
   },
   "outputs": [],
   "source": [
    "X_train = X[:train.shape[0]]\n",
    "X_test = X[train.shape[0]:]"
   ]
  },
  {
   "cell_type": "code",
   "execution_count": 12,
   "metadata": {
    "_cell_guid": "b35748b8-2353-3db2-e571-5fd22bb93eb0",
    "_uuid": "a380bbfae2d098d407b138fc44622c9913a31c07",
    "id": "IJbhbjl9OKim"
   },
   "outputs": [],
   "source": [
    "Y_train = pd.get_dummies(train['label']).values\n",
    "Y_test = pd.get_dummies(test['label']).values\n",
    "\n",
    "#print(Y_train)\n",
    "#print(X_train)"
   ]
  },
  {
   "cell_type": "markdown",
   "metadata": {
    "id": "mnlBVnkZv20C"
   },
   "source": [
    "Let's now consider the **lengths** (number of tokens) for each review, we can see that 95% of the reviews has a length of maximum 158, so we set maxlen=158, that is a parameter that we'll use later when we transform into **pad sequences**, in order to cut reviews that are longer than that, and we assign zero to the remaining slot of tokens for shorter reviews. "
   ]
  },
  {
   "cell_type": "code",
   "execution_count": 13,
   "metadata": {
    "colab": {
     "base_uri": "https://localhost:8080/"
    },
    "id": "qfgQroY-SxFM",
    "outputId": "670dfb17-4d1f-4b49-d819-e261a6244c1e"
   },
   "outputs": [
    {
     "name": "stdout",
     "output_type": "stream",
     "text": [
      "Longest sequence: 867\n",
      "[('75%', 75.0), ('80%', 86.0), ('85%', 100.0), ('90%', 121.0), ('95%', 158.0), ('100%', 867.0)]\n"
     ]
    }
   ],
   "source": [
    "sequence_len = np.array([len(s) for s in X_train])\n",
    "longest_sequence = sequence_len.max()\n",
    "print(f'Longest sequence: {longest_sequence}')\n",
    "\n",
    "print([(str(p) + '%', np.percentile(sequence_len, p)) for p in range(75,101, 5)])"
   ]
  },
  {
   "cell_type": "code",
   "execution_count": 14,
   "metadata": {
    "colab": {
     "base_uri": "https://localhost:8080/"
    },
    "id": "TVmIzsG6VgVq",
    "outputId": "7558538d-981c-40ca-8d72-a9dce52ba460"
   },
   "outputs": [
    {
     "name": "stdout",
     "output_type": "stream",
     "text": [
      "0    dr goldberg offers look general practitioner n...\n",
      "1    unfortunately frustration dr. goldberg patient...\n",
      "2    going dr. goldberg years think 1st patients st...\n",
      "3    got letter mail week said dr. goldberg moving ...\n",
      "Name: review, dtype: object\n"
     ]
    }
   ],
   "source": [
    "X = pad_sequences(X, maxlen=160)   #prima non c'era maxlen=63 (95 quantile )   # vecchio tentativo: maxlen=250\n",
    "print(df[0:4][\"review\"])"
   ]
  },
  {
   "cell_type": "code",
   "execution_count": 15,
   "metadata": {
    "id": "-Y4UDDTBYjXU"
   },
   "outputs": [],
   "source": [
    "X_train = X[:train.shape[0]]\n",
    "X_test = X[train.shape[0]:]"
   ]
  },
  {
   "cell_type": "code",
   "execution_count": 16,
   "metadata": {
    "colab": {
     "base_uri": "https://localhost:8080/"
    },
    "id": "KBs_vCuAOKif",
    "outputId": "c6989395-b1c9-4cff-aacf-a198bbedcc8f"
   },
   "outputs": [
    {
     "name": "stdout",
     "output_type": "stream",
     "text": [
      "160\n",
      "160\n",
      "(699940, 160)\n",
      "[    0     0     0     0     0     0     0     0     0     0     0     0\n",
      "     0     0     0     0     0     0     0     0     0     0     0     0\n",
      "     0     0     0     0     0     0     0     0     0     0     0     0\n",
      "     0     0     0     0     0     0     0     0     0     0     0     0\n",
      "     0     0     0     0     0     0     0     0     0     0 12303  1129\n",
      "  1142   148   509  6263     4  3308  2447   117    32   130  1129  1142\n",
      "   134  6832   123  1743  4222   201   853    86    11 30073   945 52188\n",
      "  1743     3  3519  3087 11905  1985   523  1726   230 12886  1539   576\n",
      "  6832   114     4  1682 11795   244   108  4497 19993   186  2896  8610\n",
      "  3491   118   522   201     3  5651  1181   820  7261  1743 13615   384\n",
      "   156  2006  2750   425   249    49  1129  1142 78737  1573 92954   146\n",
      " 22769  4115  3087  1142  7872   279     2  6082  1087   176   100  3062\n",
      "  1717   205   698   110     3   964    19   500   293  3514   100  1423\n",
      "   117     5 13795  1092]\n",
      "(649941, 160) (649941, 5)\n",
      "(49999, 160) (49999, 5)\n"
     ]
    }
   ],
   "source": [
    "print(X.shape[1])\n",
    "print(X_train.shape[1])\n",
    "\n",
    "print(X.shape)\n",
    "\n",
    "print(X[10])\n",
    "#print(X_test[3])\n",
    "#print(X_train[100])\n",
    "\n",
    "print(X_train.shape,Y_train.shape)\n",
    "print(X_test.shape,Y_test.shape)"
   ]
  },
  {
   "cell_type": "code",
   "execution_count": 17,
   "metadata": {
    "id": "Q_5gUXTgY5cO"
   },
   "outputs": [],
   "source": [
    "X_train = np.array(X_train)\n",
    "Y_train = np.array(Y_train)\n",
    "X_test = np.array(X_test)\n",
    "Y_test = np.array(Y_test)"
   ]
  },
  {
   "cell_type": "code",
   "execution_count": 18,
   "metadata": {
    "id": "ev4VoAhNLoSo"
   },
   "outputs": [],
   "source": [
    "max_sequence_len=160"
   ]
  },
  {
   "cell_type": "markdown",
   "metadata": {
    "id": "u8Hrv6zOpIBt"
   },
   "source": [
    "Before implementing the model we create the **Word Embedding** matrix using **GloVe**, that we used as embedding layer for the tokens. GloVe allows us to have vectors of numbers that describe the similarities of the words, so wors that are similar or represent similar concepts would have similar numbers escribing it.\n",
    "We took a pre-trained vector of word embedding that is contained in the file \"glove.6B.100d.txt\", that uses 100 features, and reading line by line select the lines with the words that are contained in the tokenizer of Keras.\n",
    "In this case we used GloVe (Global Vectors words representation) implementation instead of Word2Vect because it is an improvement of it. "
   ]
  },
  {
   "cell_type": "code",
   "execution_count": 19,
   "metadata": {
    "colab": {
     "base_uri": "https://localhost:8080/"
    },
    "id": "krmor9q1QE1k",
    "outputId": "c3ff5161-4c8a-4bb8-af6e-d8fb87f9b864"
   },
   "outputs": [
    {
     "name": "stdout",
     "output_type": "stream",
     "text": [
      "Found 399884 word vectors.\n"
     ]
    }
   ],
   "source": [
    "embeddings_index = {}\n",
    "#glove_embedding_path = pd.read_csv('/content/drive/MyDrive/progetto text mining/glove.6B.100d.txt')\n",
    "glove_embedding_path = os.path.join('embeddings', 'glove.6B.100d.txt')\n",
    "embed_dim=100\n",
    "word_index = tokenizer.word_index\n",
    "with open(glove_embedding_path, \"r\", encoding='iso-8859-1') as f:\n",
    "    for line in f:\n",
    "        values = line.split()\n",
    "        word = values[0]\n",
    "        try:\n",
    "            coefs = np.asarray(values[1:], dtype='float32')\n",
    "        except:\n",
    "            continue\n",
    "        embeddings_index[word] = coefs\n",
    "\n",
    "print('Found %s word vectors.' % len(embeddings_index))\n",
    "embedding_matrix = np.zeros((len(word_index)+1, embed_dim))\n",
    "\n",
    "for word, i in word_index.items():\n",
    "  embedding_vector = embeddings_index.get(word)\n",
    "  if embedding_vector is not None:\n",
    "    # words not found in embedding index will be all-zeros.\n",
    "    embedding_matrix[i] = embedding_vector\n",
    "    \n",
    "glove_matrix = embedding_matrix"
   ]
  },
  {
   "cell_type": "markdown",
   "metadata": {
    "id": "hhfMmipKmP6M"
   },
   "source": [
    "Next, I implement the **BiLSTM** Network, where the notation Bi is because we have two hidden layers. The model is construct in the following way:\n",
    "* first of all we add the embedding layer, using GloVe as told before,\n",
    "* we had to add a Dropout layer in order to avoid overfitting problems, setting a dropout value of 0.7, for smoothing the behaviour of the Neural Network\n",
    "* then we used a bidirectional LSTM layer, so that takes into consideration the sequence of tokns not only from left to right but also from right to left, using 2 hidden layers\n",
    "* finally the Dense layer, with 5 ad number of output, that uses **softmax** as activation function. The reason is that our Network is using categorical crossentropy, and softmax is just the right activation method for that, also because we have to handle multiple classes.\n",
    "\n",
    "Note that we have some variables that are hyperparameters:\n",
    "* **embed_dim**, which we said being 100 because of the pre-trained GloVe word embedding\n",
    "* **lstm_out** which, **droupout** variables are hyperparameters, to most of them we have associated a value by intuition. \n"
   ]
  },
  {
   "cell_type": "code",
   "execution_count": 20,
   "metadata": {
    "id": "RxxLGXr7LoS0"
   },
   "outputs": [],
   "source": [
    "#glove_embedding_path = pd.read_csv('/content/drive/MyDrive/progetto text mining/glove.6B.100d.txt',header = None)\n",
    "#embed_dim = 100\n",
    "#glove_matrix = load_glove_embedding_matrix(glove_embedding_path, tokenizer.word_index, embed_dim)"
   ]
  },
  {
   "cell_type": "code",
   "execution_count": 21,
   "metadata": {
    "colab": {
     "base_uri": "https://localhost:8080/"
    },
    "id": "tJBFqbAsLoS1",
    "outputId": "daf9eb17-e999-468c-af03-390d6bac0bfe"
   },
   "outputs": [
    {
     "name": "stdout",
     "output_type": "stream",
     "text": [
      "Model: \"sequential\"\n",
      "_________________________________________________________________\n",
      " Layer (type)                Output Shape              Param #   \n",
      "=================================================================\n",
      " embedding (Embedding)       (None, 160, 100)          23791400  \n",
      "                                                                 \n",
      " dropout (Dropout)           (None, 160, 100)          0         \n",
      "                                                                 \n",
      " bidirectional (Bidirectiona  (None, 200)              160800    \n",
      " l)                                                              \n",
      "                                                                 \n",
      " dense (Dense)               (None, 5)                 1005      \n",
      "                                                                 \n",
      "=================================================================\n",
      "Total params: 23,953,205\n",
      "Trainable params: 161,805\n",
      "Non-trainable params: 23,791,400\n",
      "_________________________________________________________________\n"
     ]
    }
   ],
   "source": [
    "lstm_out = 100  \n",
    "\n",
    "model = Sequential()\n",
    "\n",
    "model.add(Embedding(vocabulary_size+1, embed_dim, \n",
    "                    weights=[glove_matrix], input_length=X_train.shape[1], # same as maxlen\n",
    "                    trainable=False))\n",
    "model.add(Dropout(0.7))\n",
    "\n",
    "model.add(Bidirectional(LSTM(lstm_out, dropout=0.7)))\n",
    "\n",
    "model.add(Dense(5, activation='softmax'))\n",
    "    \n",
    "model.compile(loss='categorical_crossentropy',\n",
    "              optimizer='adam',\n",
    "              metrics=['accuracy',\n",
    "                       Precision(),\n",
    "                       Recall()])\n",
    "model.summary()\n",
    "\n",
    "early_stopping_callback = EarlyStopping(monitor=\"loss\", min_delta=0.01, \n",
    "                                        patience=3, verbose=1, mode=\"auto\", \n",
    "                                        restore_best_weights=True)"
   ]
  },
  {
   "cell_type": "markdown",
   "metadata": {
    "id": "4TM2leZe-HY3"
   },
   "source": [
    "Now it's time to train the Network, we tried with **batch_size** = 256 and 10 **epochs** since the time for each epoch was very high. We also added an early stopping callback so that if the loss doesn't change much from the previous epoch the run interrumps. The variable **verbose** setted equal to 1 means that we want to visualize the bar of progress moving and we see one line per epoch."
   ]
  },
  {
   "cell_type": "code",
   "execution_count": 22,
   "metadata": {
    "colab": {
     "base_uri": "https://localhost:8080/"
    },
    "id": "YBR32XovSGIx",
    "outputId": "dc0a45c9-d335-4519-d32f-ba8ef5653289"
   },
   "outputs": [
    {
     "name": "stdout",
     "output_type": "stream",
     "text": [
      "Epoch 1/15\n",
      "2032/2032 [==============================] - 3244s 2s/step - loss: 1.4662 - accuracy: 0.3393 - precision: 0.6138 - recall: 0.0564 - val_loss: 1.2668 - val_accuracy: 0.4502 - val_precision: 0.7612 - val_recall: 0.1575\n",
      "Epoch 2/15\n",
      "2032/2032 [==============================] - 2855s 1s/step - loss: 1.4116 - accuracy: 0.3710 - precision: 0.6328 - recall: 0.0824 - val_loss: 1.2252 - val_accuracy: 0.4763 - val_precision: 0.7937 - val_recall: 0.1462\n",
      "Epoch 3/15\n",
      "2032/2032 [==============================] - 2764s 1s/step - loss: 1.3941 - accuracy: 0.3815 - precision: 0.6358 - recall: 0.0918 - val_loss: 1.1948 - val_accuracy: 0.4897 - val_precision: 0.7697 - val_recall: 0.1864\n",
      "Epoch 4/15\n",
      "2032/2032 [==============================] - 2774s 1s/step - loss: 1.3843 - accuracy: 0.3861 - precision: 0.6413 - recall: 0.0964 - val_loss: 1.1766 - val_accuracy: 0.4993 - val_precision: 0.7805 - val_recall: 0.2004\n",
      "Epoch 5/15\n",
      "2032/2032 [==============================] - 2773s 1s/step - loss: 1.3787 - accuracy: 0.3906 - precision: 0.6411 - recall: 0.0990 - val_loss: 1.1858 - val_accuracy: 0.4837 - val_precision: 0.7846 - val_recall: 0.1763\n",
      "Epoch 6/15\n",
      "2032/2032 [==============================] - 2786s 1s/step - loss: 1.3736 - accuracy: 0.3922 - precision: 0.6432 - recall: 0.1023 - val_loss: 1.1742 - val_accuracy: 0.5024 - val_precision: 0.8094 - val_recall: 0.1785\n",
      "Epoch 7/15\n",
      "2032/2032 [==============================] - 2840s 1s/step - loss: 1.3681 - accuracy: 0.3950 - precision: 0.6432 - recall: 0.1048 - val_loss: 1.1680 - val_accuracy: 0.5007 - val_precision: 0.7933 - val_recall: 0.1940\n",
      "Epoch 8/15\n",
      "2032/2032 [==============================] - 2736s 1s/step - loss: 1.3651 - accuracy: 0.3969 - precision: 0.6417 - recall: 0.1063 - val_loss: 1.1653 - val_accuracy: 0.5041 - val_precision: 0.8029 - val_recall: 0.1899\n",
      "Epoch 9/15\n",
      "2032/2032 [==============================] - 2734s 1s/step - loss: 1.3614 - accuracy: 0.3989 - precision: 0.6442 - recall: 0.1087 - val_loss: 1.1432 - val_accuracy: 0.5213 - val_precision: 0.7846 - val_recall: 0.2022\n",
      "Epoch 10/15\n",
      "2032/2032 [==============================] - ETA: 0s - loss: 1.3596 - accuracy: 0.3988 - precision: 0.6446 - recall: 0.1098Restoring model weights from the end of the best epoch: 7.\n",
      "2032/2032 [==============================] - 2731s 1s/step - loss: 1.3596 - accuracy: 0.3988 - precision: 0.6446 - recall: 0.1098 - val_loss: 1.1469 - val_accuracy: 0.5252 - val_precision: 0.8078 - val_recall: 0.1862\n",
      "Epoch 00010: early stopping\n"
     ]
    }
   ],
   "source": [
    "batch_size = 256\n",
    "history = model.fit(X_train, Y_train, epochs = 15, batch_size=batch_size, \n",
    "                    validation_split=0.2, callbacks=[early_stopping_callback]) "
   ]
  },
  {
   "cell_type": "code",
   "execution_count": null,
   "metadata": {
    "id": "XpaNlmNpLoS1"
   },
   "outputs": [],
   "source": [
    "#%%time\n",
    "\n",
    "#batch_size = 256\n",
    "#history = model.fit(X_train, \n",
    "#          Y_train, \n",
    "#          batch_size=batch_size, \n",
    "#          epochs=3,\n",
    "#          verbose=2,\n",
    "#          callbacks=[early_stopping_callback]\n",
    "#         )"
   ]
  },
  {
   "cell_type": "code",
   "execution_count": 23,
   "metadata": {
    "id": "jHBq-0UKOw-_"
   },
   "outputs": [],
   "source": [
    "model.save('model_normal_7epoch_totale.h5')"
   ]
  },
  {
   "cell_type": "markdown",
   "metadata": {
    "id": "sIyR48OxAXC3"
   },
   "source": [
    "Finally we have the model trained, so we can test it using the data of the X_test."
   ]
  },
  {
   "cell_type": "code",
   "execution_count": 24,
   "metadata": {
    "id": "m_a_ecC0OKi1"
   },
   "outputs": [],
   "source": [
    " predictions = model.predict(X_test)"
   ]
  },
  {
   "cell_type": "code",
   "execution_count": 25,
   "metadata": {
    "id": "s9O78AxZJrhJ"
   },
   "outputs": [
    {
     "data": {
      "text/plain": [
       "array([[0.63811034, 0.11361138, 0.04535076, 0.0331994 , 0.16972809],\n",
       "       [0.56514055, 0.19395363, 0.11478624, 0.0555003 , 0.07061926],\n",
       "       [0.86406356, 0.12280075, 0.0099284 , 0.0020891 , 0.00111826],\n",
       "       ...,\n",
       "       [0.02302444, 0.14353554, 0.3545451 , 0.36434236, 0.1145526 ],\n",
       "       [0.09811168, 0.32404408, 0.3159204 , 0.20104872, 0.0608751 ],\n",
       "       [0.21051511, 0.49640664, 0.22437102, 0.05670108, 0.0120062 ]],\n",
       "      dtype=float32)"
      ]
     },
     "execution_count": 25,
     "metadata": {},
     "output_type": "execute_result"
    }
   ],
   "source": [
    "predictions"
   ]
  },
  {
   "cell_type": "code",
   "execution_count": 26,
   "metadata": {
    "id": "3MmgjoPVOKi6"
   },
   "outputs": [
    {
     "data": {
      "text/plain": [
       "array([0, 0, 0, ..., 3, 1, 1], dtype=int64)"
      ]
     },
     "execution_count": 26,
     "metadata": {},
     "output_type": "execute_result"
    }
   ],
   "source": [
    "prediction_classes=np.argmax(predictions,axis=1)\n",
    "prediction_classes"
   ]
  },
  {
   "cell_type": "markdown",
   "metadata": {
    "id": "__ra3yOCAg5w"
   },
   "source": [
    "One of the most important metrics we would like to see is the accuracy, in our case is not very hgh, probably for the small number of epochs, but it's not so bad."
   ]
  },
  {
   "cell_type": "code",
   "execution_count": 27,
   "metadata": {
    "colab": {
     "base_uri": "https://localhost:8080/"
    },
    "id": "WdAgi1lLOKjH",
    "outputId": "e2259a5c-ea5f-411e-bdec-450b202019b9"
   },
   "outputs": [
    {
     "name": "stdout",
     "output_type": "stream",
     "text": [
      "196/196 - 53s - loss: 1.1907 - accuracy: 0.4857 - precision: 0.7474 - recall: 0.1626 - 53s/epoch - 269ms/step\n",
      "acc: 0.49\n"
     ]
    }
   ],
   "source": [
    "score, acc, *is_anything_else_being_returned = model.evaluate(X_test, Y_test, verbose = 2, batch_size = batch_size)\n",
    "\n",
    "print(\"acc: %.2f\" % (acc))"
   ]
  },
  {
   "cell_type": "markdown",
   "metadata": {
    "id": "_xl3WxP6AtFe"
   },
   "source": [
    "We can visualize the confusion matrix also through a heatmap.\n"
   ]
  },
  {
   "cell_type": "code",
   "execution_count": 28,
   "metadata": {
    "id": "yGpHEEShOKjO"
   },
   "outputs": [],
   "source": [
    "from sklearn.metrics import confusion_matrix,classification_report"
   ]
  },
  {
   "cell_type": "code",
   "execution_count": 29,
   "metadata": {
    "id": "9zVIlQ74OKjP"
   },
   "outputs": [],
   "source": [
    "cf_matrix = confusion_matrix(Y_test.argmax(axis=1),prediction_classes)"
   ]
  },
  {
   "cell_type": "code",
   "execution_count": 30,
   "metadata": {
    "colab": {
     "base_uri": "https://localhost:8080/"
    },
    "id": "sENnfak7J_he",
    "outputId": "f9b17d74-5a83-42b9-971c-72a5a4ee9483"
   },
   "outputs": [
    {
     "data": {
      "text/plain": [
       "array([[6758, 2077,  618,  211,  335],\n",
       "       [2313, 3826, 2720,  735,  406],\n",
       "       [ 691, 1936, 4590, 2169,  614],\n",
       "       [ 297,  716, 2855, 4346, 1786],\n",
       "       [ 368,  436,  967, 3465, 4764]], dtype=int64)"
      ]
     },
     "execution_count": 30,
     "metadata": {},
     "output_type": "execute_result"
    }
   ],
   "source": [
    "cf_matrix"
   ]
  },
  {
   "cell_type": "code",
   "execution_count": 31,
   "metadata": {
    "id": "rrZZV_sWOKjP"
   },
   "outputs": [],
   "source": [
    "import seaborn as sns\n",
    "\n",
    "#group_names = ['True Neg','False Pos','False Neg','True Pos', ]\n",
    "group_counts = [\"{0:0.0f}\".format(value) for value in\n",
    "                cf_matrix.flatten()]\n",
    "group_percentages = [\"{0:.2%}\".format(value) for value in\n",
    "                     cf_matrix.flatten()/np.sum(cf_matrix)]\n",
    "#labels = [f\"{v1}\\n{v2}\\n{v3}\" for v1, v2, v3 in zip(group_names,group_counts,group_percentages)]\n",
    "labels = [f\"{v2}\\n{v3}\" for v2, v3 in zip(group_counts,group_percentages)]\n",
    "\n",
    "labels = np.asarray(labels).reshape(5,5)"
   ]
  },
  {
   "cell_type": "code",
   "execution_count": 32,
   "metadata": {
    "colab": {
     "base_uri": "https://localhost:8080/",
     "height": 283
    },
    "id": "BiLzACiMMd9B",
    "outputId": "ffb4985b-aea2-4ed2-c68c-e2d6b7a2be36"
   },
   "outputs": [
    {
     "data": {
      "text/plain": [
       "<AxesSubplot:>"
      ]
     },
     "execution_count": 32,
     "metadata": {},
     "output_type": "execute_result"
    },
    {
     "data": {
      "image/png": "[encoded data removed]",
      "text/plain": [
       "<Figure size 432x288 with 2 Axes>"
      ]
     },
     "metadata": {
      "needs_background": "light"
     },
     "output_type": "display_data"
    }
   ],
   "source": [
    "sns.heatmap(cf_matrix, annot=labels, fmt='', cmap='Blues')"
   ]
  },
  {
   "cell_type": "code",
   "execution_count": 33,
   "metadata": {
    "colab": {
     "base_uri": "https://localhost:8080/"
    },
    "id": "XCLSAFXdOKjT",
    "outputId": "b579aa79-66c2-4bef-dd54-54ab3ef0846b"
   },
   "outputs": [
    {
     "name": "stdout",
     "output_type": "stream",
     "text": [
      "              precision    recall  f1-score   support\n",
      "\n",
      "           0       0.65      0.68      0.66      9999\n",
      "           1       0.43      0.38      0.40     10000\n",
      "           2       0.39      0.46      0.42     10000\n",
      "           3       0.40      0.43      0.42     10000\n",
      "           4       0.60      0.48      0.53     10000\n",
      "\n",
      "    accuracy                           0.49     49999\n",
      "   macro avg       0.49      0.49      0.49     49999\n",
      "weighted avg       0.49      0.49      0.49     49999\n",
      "\n"
     ]
    }
   ],
   "source": [
    "print(classification_report(Y_test.argmax(axis=1),prediction_classes))"
   ]
  },
  {
   "cell_type": "markdown",
   "metadata": {
    "id": "huyp8uyEA08W"
   },
   "source": [
    "The conclusion of this test is that our model it's not extremely good, it could be improved, but it needs more time to do that. Although for the extreme classes (1 and 5) has a better performance, quite good, in respect to the others."
   ]
  },
  {
   "cell_type": "markdown",
   "metadata": {
    "_cell_guid": "890a03c9-316e-4d55-98e1-ba29045eff6c",
    "_uuid": "cfcbefe939b72297019e221ca3f5a283974bffff",
    "id": "c3WwBewLOKjU"
   },
   "source": [
    "Let's try it in action, we try with a single text of a review (written by us) to say how many stars would I selectionate corresponding to that."
   ]
  },
  {
   "cell_type": "code",
   "execution_count": 34,
   "metadata": {
    "_cell_guid": "24c64f46-edd1-8d0b-7c7c-ef50fd26b2fd",
    "_uuid": "d9aac68e2013b3beffb6a764cc5b85be83073e66",
    "colab": {
     "base_uri": "https://localhost:8080/"
    },
    "id": "KiG5iVGzOKjU",
    "outputId": "0fd351dc-197a-47d6-90f4-a78ec899f288"
   },
   "outputs": [
    {
     "name": "stdout",
     "output_type": "stream",
     "text": [
      "[[   0    0    0    0    0    0    0    0    0    0    0    0    0    0\n",
      "     0    0    0    0    0    0    0    0    0    0    0    0    0    0\n",
      "     0    0    0    0    0    0    0    0    0    0    0    0    0    0\n",
      "     0    0    0    0    0    0    0    0    0    0    0    0    0    0\n",
      "     0    0    0    0    0    0    0    0    0    0    0    0    0    0\n",
      "     0    0    0    0    0    0    0    0    0    0    0    0    0    0\n",
      "     0    0    0    0    0    0    0    0    0    0    0    0    0    0\n",
      "     0    0    0    0    0    0    0    0    0    0    0    0    0    0\n",
      "     0    0    0    0    0    0    0    0    0    0    0    0    0    0\n",
      "     0    0    0    0    0    0    0    0    0    0    0    0    0    0\n",
      "     0    0    0    0    0    0    0    0    0    0 1883 5248 9206  529\n",
      "     9  141   82 3011 1883    1]]\n"
     ]
    }
   ],
   "source": [
    "twt = ['The resturant was awful. nice waitress but hated the food']\n",
    "#vectorizing the tweet by the pre-fitted tokenizer instance\n",
    "twt = tokenizer.texts_to_sequences(twt)\n",
    "#padding the tweet to have exactly the same shape as `embedding_2` input\n",
    "twt = pad_sequences(twt, maxlen=160, dtype='int32')   #, value=0\n",
    "print(twt)\n"
   ]
  },
  {
   "cell_type": "code",
   "execution_count": 35,
   "metadata": {
    "colab": {
     "base_uri": "https://localhost:8080/"
    },
    "id": "EsO8PE0MOKjV",
    "outputId": "325b351d-c85b-44c6-fd13-4515efbf71bd"
   },
   "outputs": [
    {
     "name": "stdout",
     "output_type": "stream",
     "text": [
      "1/1 - 0s - 53ms/epoch - 53ms/step\n"
     ]
    }
   ],
   "source": [
    "sentiment = model.predict(twt,verbose = 2)[0]  "
   ]
  },
  {
   "cell_type": "code",
   "execution_count": 36,
   "metadata": {
    "colab": {
     "base_uri": "https://localhost:8080/"
    },
    "id": "4LTSo3OkNDfT",
    "outputId": "107438c5-8053-4e3f-dc2f-4537dd3b2cce"
   },
   "outputs": [
    {
     "name": "stdout",
     "output_type": "stream",
     "text": [
      "review evaluated as 5 out of 5\n"
     ]
    }
   ],
   "source": [
    "print(\"review evaluated as\", np.argmax(sentiment)+1, \"out of 5\")\n",
    "\n",
    "\n",
    "#if(np.argmax(sentiment) == 0):\n",
    "#    print(\"review evaluated as 1 out of 5\")\n",
    "#elif (np.argmax(sentiment) == 1):\n",
    "#    print(\"review evaluated as 2 out of 5\")\n",
    "#elif(np.argmax(sentiment) == 2):\n",
    "#    print(\"review evaluated as 3 out of 5\")\n",
    "#elif (np.argmax(sentiment) == 3):\n",
    "##    print(\"review evaluated as 4 out of 5\")\n",
    "#elif (np.argmax(sentiment) == 4):\n",
    "#    print(\"review evaluated as 5 out of 5\")"
   ]
  },
  {
   "cell_type": "markdown",
   "metadata": {
    "id": "dMv9MTP5BXsR"
   },
   "source": [
    "The result seems to be right, the review was very bad and the algorithm recognize it."
   ]
  },
  {
   "cell_type": "markdown",
   "metadata": {
    "id": "HJyJnPV0V-e7"
   },
   "source": [
    "## Changing categories"
   ]
  },
  {
   "cell_type": "markdown",
   "metadata": {
    "id": "vyZDMo0pBpC2"
   },
   "source": [
    "Let's try now with a new categorization, with only 3 categories: positive, negative and neutral. We assigned to reviews with label 1 and 2 the **neg** class, to the ones with label 3 the **neut** class and to the ones with 4 or 5 the **pos** class. Since they were unbalanced we reblanced the classes."
   ]
  },
  {
   "cell_type": "code",
   "execution_count": 43,
   "metadata": {
    "colab": {
     "base_uri": "https://localhost:8080/"
    },
    "id": "P99uYBpCWRGg",
    "outputId": "9ee0410d-0116-4aba-d176-d8ea605b6eaa"
   },
   "outputs": [
    {
     "name": "stdout",
     "output_type": "stream",
     "text": [
      "                                                   review  cat\n",
      "0       dr goldberg offers look general practitioner n...  pos\n",
      "1       unfortunately frustration dr. goldberg patient...  neg\n",
      "2       going dr. goldberg years think 1st patients st...  pos\n",
      "3       got letter mail week said dr. goldberg moving ...  pos\n",
      "4       know dr. goldberg like moving arizona let tell...  neg\n",
      "...                                                   ...  ...\n",
      "649936  sprinkler gushing pipe broken way ground turne...  pos\n",
      "649937  phone calls voicemail messages returned stupid...  neg\n",
      "649938  looks like good reviews gone head place jason ...  neg\n",
      "649939  able rely yelp provide needed response leaking...  pos\n",
      "649940  company months ryan come week needed little re...  neg\n",
      "\n",
      "[649941 rows x 2 columns]\n"
     ]
    }
   ],
   "source": [
    "train1 = train\n",
    "train1[\"cat\"] = train1[\"label\"]\n",
    "train1[\"cat\"].replace({1: \"neg\", 2: \"neg\", 3: \"neut\", 4: \"pos\", 5: \"pos\"}, inplace=True)\n",
    "del train1[\"label\"]\n",
    "print(train1)"
   ]
  },
  {
   "cell_type": "code",
   "execution_count": 44,
   "metadata": {
    "colab": {
     "base_uri": "https://localhost:8080/"
    },
    "id": "zk95RSMMWWwl",
    "outputId": "f5fc378e-52a9-4497-9117-fea7832cd568"
   },
   "outputs": [
    {
     "name": "stdout",
     "output_type": "stream",
     "text": [
      "                                                  review  cat\n",
      "0      got new tires weeks got flat took car local me...  neg\n",
      "1      not waste time different people come house est...  neg\n",
      "2      worst people place lunch place freezing loaded...  neg\n",
      "3      restaurant twice disappointed times not time h...  neg\n",
      "4      food not good husband ate couple weeks ago tim...  neg\n",
      "...                                                  ...  ...\n",
      "49994  wanted write review chip said not recommend go...  neg\n",
      "49995  great ambience great drinks great food love place  pos\n",
      "49996  monks locations excited heard coming sun prair...  pos\n",
      "49997  not know want try but good reviews people sadl...  neg\n",
      "49998  buffet recently open renovation husband thinki...  neg\n",
      "\n",
      "[49999 rows x 2 columns]\n"
     ]
    }
   ],
   "source": [
    "test1 = test\n",
    "test1[\"cat\"] = test1[\"label\"]\n",
    "test1[\"cat\"].replace({1: \"neg\", 2: \"neg\", 3: \"neut\", 4: \"pos\", 5: \"pos\"}, inplace=True)\n",
    "del test1[\"label\"]\n",
    "print(test1)\n",
    "\n",
    "#COMMENTO QUESTE DUE RIGHE PER NON FARLO SUL 10% DEL DATASET\n",
    "#train1,train_extra = train_test_split(train1, test_size = 0.90, random_state = 42)\n",
    "#test1, test_extra = train_test_split(test1, test_size = 0.90, random_state = 42)\n"
   ]
  },
  {
   "cell_type": "markdown",
   "metadata": {},
   "source": [
    "For the train is better if we balance the classes, randomly, since at the end of the cateogirzation we have unbalanced classes."
   ]
  },
  {
   "cell_type": "code",
   "execution_count": 45,
   "metadata": {
    "colab": {
     "base_uri": "https://localhost:8080/",
     "height": 479
    },
    "id": "sj2N33GlWYv0",
    "outputId": "fcaddc0b-846f-4ef0-a3ee-ae3fc2161816"
   },
   "outputs": [
    {
     "name": "stdout",
     "output_type": "stream",
     "text": [
      "pos (129996, 2) neu (129996, 2) neg (129996, 2)\n"
     ]
    },
    {
     "data": {
      "text/html": [
       "<div>\n",
       "<style scoped>\n",
       "    .dataframe tbody tr th:only-of-type {\n",
       "        vertical-align: middle;\n",
       "    }\n",
       "\n",
       "    .dataframe tbody tr th {\n",
       "        vertical-align: top;\n",
       "    }\n",
       "\n",
       "    .dataframe thead th {\n",
       "        text-align: right;\n",
       "    }\n",
       "</style>\n",
       "<table border=\"1\" class=\"dataframe\">\n",
       "  <thead>\n",
       "    <tr style=\"text-align: right;\">\n",
       "      <th></th>\n",
       "      <th>review</th>\n",
       "      <th>cat</th>\n",
       "    </tr>\n",
       "  </thead>\n",
       "  <tbody>\n",
       "    <tr>\n",
       "      <th>0</th>\n",
       "      <td>occasional drink today stopped lunch sister hu...</td>\n",
       "      <td>neut</td>\n",
       "    </tr>\n",
       "    <tr>\n",
       "      <th>1</th>\n",
       "      <td>friends tuesday nights cent taco tuesday speci...</td>\n",
       "      <td>neg</td>\n",
       "    </tr>\n",
       "    <tr>\n",
       "      <th>2</th>\n",
       "      <td>evil place end spending money lots shops enter...</td>\n",
       "      <td>pos</td>\n",
       "    </tr>\n",
       "    <tr>\n",
       "      <th>3</th>\n",
       "      <td>went moko night craving short ribs bad wait co...</td>\n",
       "      <td>pos</td>\n",
       "    </tr>\n",
       "    <tr>\n",
       "      <th>4</th>\n",
       "      <td>hands best place new standard car washing hand...</td>\n",
       "      <td>pos</td>\n",
       "    </tr>\n",
       "    <tr>\n",
       "      <th>...</th>\n",
       "      <td>...</td>\n",
       "      <td>...</td>\n",
       "    </tr>\n",
       "    <tr>\n",
       "      <th>389983</th>\n",
       "      <td>yummy fast house special chicken orange chicke...</td>\n",
       "      <td>pos</td>\n",
       "    </tr>\n",
       "    <tr>\n",
       "      <th>389984</th>\n",
       "      <td>good burgers zucchini root beer floats hit dri...</td>\n",
       "      <td>pos</td>\n",
       "    </tr>\n",
       "    <tr>\n",
       "      <th>389985</th>\n",
       "      <td>starting trust yelp rating husband tried place...</td>\n",
       "      <td>neg</td>\n",
       "    </tr>\n",
       "    <tr>\n",
       "      <th>389986</th>\n",
       "      <td>cheap beer cheap steak eggs great customer ser...</td>\n",
       "      <td>pos</td>\n",
       "    </tr>\n",
       "    <tr>\n",
       "      <th>389987</th>\n",
       "      <td>mojitos good empanadas delicious great restaur...</td>\n",
       "      <td>pos</td>\n",
       "    </tr>\n",
       "  </tbody>\n",
       "</table>\n",
       "<p>389988 rows × 2 columns</p>\n",
       "</div>"
      ],
      "text/plain": [
       "                                                   review   cat\n",
       "0       occasional drink today stopped lunch sister hu...  neut\n",
       "1       friends tuesday nights cent taco tuesday speci...   neg\n",
       "2       evil place end spending money lots shops enter...   pos\n",
       "3       went moko night craving short ribs bad wait co...   pos\n",
       "4       hands best place new standard car washing hand...   pos\n",
       "...                                                   ...   ...\n",
       "389983  yummy fast house special chicken orange chicke...   pos\n",
       "389984  good burgers zucchini root beer floats hit dri...   pos\n",
       "389985  starting trust yelp rating husband tried place...   neg\n",
       "389986  cheap beer cheap steak eggs great customer ser...   pos\n",
       "389987  mojitos good empanadas delicious great restaur...   pos\n",
       "\n",
       "[389988 rows x 2 columns]"
      ]
     },
     "execution_count": 45,
     "metadata": {},
     "output_type": "execute_result"
    }
   ],
   "source": [
    "from sklearn.utils import shuffle\n",
    "pos_train_subset = train1[train1[\"cat\"]==\"pos\"].sample(n=len(train1[train1[\"cat\"]==\"neut\"]),random_state=28)\n",
    "neut_train_subset = train1[train[\"cat\"]==\"neut\"]\n",
    "neg_train_subset = train1[train1[\"cat\"]==\"neg\"].sample(n=len(train1[train1[\"cat\"]==\"neut\"]),random_state=98)\n",
    "print(\"pos\", pos_train_subset.shape, \"neu\", neut_train_subset.shape, \"neg\",neg_train_subset.shape)\n",
    "train_sub = shuffle(pd.concat([pos_train_subset, neut_train_subset, neg_train_subset], ignore_index = True))\n",
    "train_sub.reset_index(drop=True, inplace=True)\n",
    "train_sub"
   ]
  },
  {
   "cell_type": "code",
   "execution_count": 77,
   "metadata": {
    "id": "qIZKWD8PWbDH"
   },
   "outputs": [],
   "source": [
    "df_sub = pd.concat([train_sub, test], ignore_index = True)\n",
    "df_sub = df_sub.sample(n=int(df_sub.shape[0])//42,random_state=8)\n",
    "#print(\"pos\", df.shape)\n",
    "df_sub.reset_index(drop=True, inplace=True)\n",
    "\n",
    "train_sub = train_sub.sample(n=int(train_sub.shape[0])//42,random_state=8)\n",
    "train_sub.reset_index(drop=True, inplace=True)\n",
    "test = test.sample(n=int(test.shape[0])//42,random_state=8)\n",
    "test.reset_index(drop=True, inplace=True)"
   ]
  },
  {
   "cell_type": "markdown",
   "metadata": {
    "id": "WtUM6J2UCXfa"
   },
   "source": [
    "We proceed in the same way that above. We use Tokenizer, then we transform into pad sequences and we create an embedding matrix using GloVe in order to have it for the embedding layer of the model."
   ]
  },
  {
   "cell_type": "code",
   "execution_count": 78,
   "metadata": {
    "id": "QRlUniyTWsW0"
   },
   "outputs": [],
   "source": [
    "tokenizer2 = Tokenizer() "
   ]
  },
  {
   "cell_type": "code",
   "execution_count": 79,
   "metadata": {
    "id": "g8tVvKjeWuem"
   },
   "outputs": [],
   "source": [
    "tokenizer2.fit_on_texts(df_sub['review'].values)"
   ]
  },
  {
   "cell_type": "code",
   "execution_count": 80,
   "metadata": {
    "colab": {
     "base_uri": "https://localhost:8080/"
    },
    "id": "WgsSRiUwWwRg",
    "outputId": "cdd5d760-eb01-4d6f-b7c4-ec5a497781c4"
   },
   "outputs": [
    {
     "name": "stdout",
     "output_type": "stream",
     "text": [
      "[[1434, 6, 4096, 560, 94, 49, 278, 2, 5, 49, 884, 67, 5, 17772, 47, 18, 11, 5389, 3352, 50, 39, 1694, 3353, 201, 5, 2, 1, 49, 1226, 363, 308, 2442, 313, 11049, 313, 199, 313, 170, 2442, 15, 872, 1604, 21, 247, 5122, 4445, 60, 665, 2852, 2443, 1020, 8526, 168, 76, 2196, 6, 11, 58, 6, 58, 2442, 313, 156, 75, 408, 58, 41, 693, 19, 191, 483, 3089, 2672, 3167, 257, 147, 90, 23, 94, 1091, 184], [1543, 879, 6546, 4446, 149, 879, 6546, 4446, 367, 5123, 9557, 5124, 454, 6547, 770, 417, 2619, 711, 1394, 13415, 17773, 185, 1246, 114, 24], [3, 86, 350, 4447, 405, 260, 560, 4251, 560, 3948, 90, 26, 4447, 86, 6, 224, 1544, 5125, 17774, 2444, 3353], [17775, 111, 5, 7036, 108, 149, 103, 4, 1155, 5697, 17776, 1633, 415, 219, 69, 869, 303, 17777, 9, 3949, 17778]]\n"
     ]
    }
   ],
   "source": [
    "X = tokenizer2.texts_to_sequences(df_sub['review'].values) \n",
    "print(X[0:4]) "
   ]
  },
  {
   "cell_type": "code",
   "execution_count": 81,
   "metadata": {
    "id": "9Y9kRH3mCRqg"
   },
   "outputs": [],
   "source": [
    "vocabulary_size = len(tokenizer2.word_counts)"
   ]
  },
  {
   "cell_type": "code",
   "execution_count": 82,
   "metadata": {
    "id": "T3Ytn7q0WynS"
   },
   "outputs": [],
   "source": [
    "leng = []\n",
    "for i in X:\n",
    "  leng.append(len(i))"
   ]
  },
  {
   "cell_type": "code",
   "execution_count": 83,
   "metadata": {
    "colab": {
     "base_uri": "https://localhost:8080/"
    },
    "id": "gGxxFkFAW1QC",
    "outputId": "49015c76-11e7-4ecb-d069-e2c3aaa9c68f"
   },
   "outputs": [
    {
     "data": {
      "text/plain": [
       "count    10475.000000\n",
       "mean        59.033031\n",
       "std         52.159875\n",
       "min          1.000000\n",
       "25%         24.000000\n",
       "50%         44.000000\n",
       "75%         77.000000\n",
       "max        539.000000\n",
       "dtype: float64"
      ]
     },
     "execution_count": 83,
     "metadata": {},
     "output_type": "execute_result"
    }
   ],
   "source": [
    "import pandas as pd\n",
    "s = pd.Series(leng)\n",
    "s.describe() #Non ha senso che facciamo 250 secondo me"
   ]
  },
  {
   "cell_type": "code",
   "execution_count": 84,
   "metadata": {
    "id": "hAbUuXJ8_8QB"
   },
   "outputs": [],
   "source": [
    "X = pad_sequences(X, maxlen=160)"
   ]
  },
  {
   "cell_type": "code",
   "execution_count": 85,
   "metadata": {
    "id": "rmh-_sTN_-Yq"
   },
   "outputs": [],
   "source": [
    "X_train = X[:train_sub.shape[0]]\n",
    "X_test = X[train_sub.shape[0]:]"
   ]
  },
  {
   "cell_type": "code",
   "execution_count": 86,
   "metadata": {
    "id": "XKOD73uKAAre"
   },
   "outputs": [],
   "source": [
    "Y_train = pd.get_dummies(train_sub['cat']).values #Convert categorical variable into dummy/indicator variables.\n",
    "Y_test = pd.get_dummies(test['cat']).values"
   ]
  },
  {
   "cell_type": "markdown",
   "metadata": {
    "id": "lQRLDQz7Ca38"
   },
   "source": [
    "We tried the same model, only changing the number of output in the last layer, from 5 to 3."
   ]
  },
  {
   "cell_type": "code",
   "execution_count": 87,
   "metadata": {
    "colab": {
     "base_uri": "https://localhost:8080/"
    },
    "id": "EzBl6PDrGfwI",
    "outputId": "6e84669b-c375-4648-f282-11b11e0d2a4b"
   },
   "outputs": [
    {
     "name": "stdout",
     "output_type": "stream",
     "text": [
      "Found 399884 word vectors.\n"
     ]
    }
   ],
   "source": [
    "embeddings_index = {}\n",
    "#glove_embedding_path = pd.read_csv('/content/drive/MyDrive/progetto text mining/glove.6B.100d.txt')\n",
    "glove_embedding_path = os.path.join('embeddings', 'glove.6B.100d.txt')\n",
    "embed_dim=100\n",
    "word_index = tokenizer2.word_index\n",
    "with open(glove_embedding_path, \"r\", encoding='iso-8859-1') as f:\n",
    "    for line in f:\n",
    "        values = line.split()\n",
    "        word = values[0]\n",
    "        try:\n",
    "            coefs = np.asarray(values[1:], dtype='float32')\n",
    "        except:\n",
    "            continue\n",
    "        embeddings_index[word] = coefs\n",
    "\n",
    "print('Found %s word vectors.' % len(embeddings_index))\n",
    "embedding_matrix = np.zeros((len(word_index)+1, embed_dim))\n",
    "\n",
    "for word, i in word_index.items():\n",
    "  embedding_vector = embeddings_index.get(word)\n",
    "  if embedding_vector is not None:\n",
    "    # words not found in embedding index will be all-zeros.\n",
    "    embedding_matrix[i] = embedding_vector\n",
    "    \n",
    "glove_matrix = embedding_matrix"
   ]
  },
  {
   "cell_type": "code",
   "execution_count": 88,
   "metadata": {
    "colab": {
     "base_uri": "https://localhost:8080/"
    },
    "id": "-AdW9vdAADge",
    "outputId": "fb638fa8-9e12-4d73-ae15-229ab6a76e6a"
   },
   "outputs": [
    {
     "name": "stdout",
     "output_type": "stream",
     "text": [
      "Model: \"sequential_4\"\n",
      "_________________________________________________________________\n",
      " Layer (type)                Output Shape              Param #   \n",
      "=================================================================\n",
      " embedding_4 (Embedding)     (None, 160, 100)          3181700   \n",
      "                                                                 \n",
      " dropout_3 (Dropout)         (None, 160, 100)          0         \n",
      "                                                                 \n",
      " bidirectional_3 (Bidirectio  (None, 200)              160800    \n",
      " nal)                                                            \n",
      "                                                                 \n",
      " dense_3 (Dense)             (None, 3)                 603       \n",
      "                                                                 \n",
      "=================================================================\n",
      "Total params: 3,343,103\n",
      "Trainable params: 3,343,103\n",
      "Non-trainable params: 0\n",
      "_________________________________________________________________\n"
     ]
    }
   ],
   "source": [
    "embed_dim =  100\n",
    "lstm_out = 100  #196\n",
    "max_features = 160\n",
    "\n",
    "model = Sequential()\n",
    "\n",
    "model.add(Embedding(vocabulary_size+1, embed_dim, \n",
    "                    weights=[glove_matrix], input_length=X_train.shape[1],trainable=True, mask_zero=True))\n",
    "model.add(Dropout(0.7))\n",
    "\n",
    "model.add(Bidirectional(LSTM(lstm_out, dropout=0.7)))\n",
    "\n",
    "model.add(Dense(3, activation='softmax'))\n",
    "    \n",
    "model.compile(loss='categorical_crossentropy',\n",
    "              optimizer='adam',\n",
    "              metrics=['accuracy',\n",
    "                       Precision(),\n",
    "                       Recall()])\n",
    "model.summary()\n",
    "\n",
    "early_stopping_callback = EarlyStopping(monitor=\"loss\", min_delta=0.01, \n",
    "                                        patience=3, verbose=1, mode=\"auto\", \n",
    "                                        restore_best_weights=True)"
   ]
  },
  {
   "cell_type": "code",
   "execution_count": 89,
   "metadata": {
    "colab": {
     "base_uri": "https://localhost:8080/"
    },
    "id": "PrWy-_1jAH3P",
    "outputId": "262c1879-a125-4812-e7bd-46376db4207e"
   },
   "outputs": [
    {
     "name": "stdout",
     "output_type": "stream",
     "text": [
      "Epoch 1/2\n",
      "37/37 - 227s - loss: 1.1267 - accuracy: 0.3247 - precision_3: 0.3219 - recall_3: 0.0242 - 227s/epoch - 6s/step\n",
      "Epoch 2/2\n",
      "37/37 - 216s - loss: 1.1146 - accuracy: 0.3394 - precision_3: 0.4120 - recall_3: 0.0118 - 216s/epoch - 6s/step\n",
      "Wall time: 7min 24s\n"
     ]
    }
   ],
   "source": [
    "%%time\n",
    "\n",
    "batch_size = 256\n",
    "history = model.fit(X_train, \n",
    "          Y_train, \n",
    "          batch_size=batch_size, \n",
    "          epochs=2,\n",
    "          verbose=2,\n",
    "          callbacks=[early_stopping_callback]\n",
    "         )"
   ]
  },
  {
   "cell_type": "code",
   "execution_count": null,
   "metadata": {
    "id": "83QigsqQOSnt"
   },
   "outputs": [],
   "source": [
    "model.save('model_3cat_10epoch_totale.h5')"
   ]
  },
  {
   "cell_type": "markdown",
   "metadata": {
    "id": "2mI4AojaCl5X"
   },
   "source": [
    "We performed prediction."
   ]
  },
  {
   "cell_type": "code",
   "execution_count": null,
   "metadata": {
    "colab": {
     "base_uri": "https://localhost:8080/"
    },
    "id": "RE9Q8rT7AYIb",
    "outputId": "83fae36e-f312-4882-9917-e13395a6f6a1"
   },
   "outputs": [
    {
     "data": {
      "text/plain": [
       "array([0, 0, 0, ..., 0, 0, 0])"
      ]
     },
     "execution_count": 85,
     "metadata": {},
     "output_type": "execute_result"
    }
   ],
   "source": [
    "predictions = model.predict(X_test)\n",
    "prediction_classes=np.argmax(predictions,axis=1)\n",
    "prediction_classes"
   ]
  },
  {
   "cell_type": "code",
   "execution_count": null,
   "metadata": {
    "colab": {
     "base_uri": "https://localhost:8080/"
    },
    "id": "r8TO8xbuAZwU",
    "outputId": "b1a78b48-fd91-4e9c-ff1b-9d56f48df47e"
   },
   "outputs": [
    {
     "name": "stdout",
     "output_type": "stream",
     "text": [
      "20/20 - 12s - loss: 0.9998 - accuracy: 0.4675 - precision_2: 0.6063 - recall_2: 0.2939 - 12s/epoch - 593ms/step\n",
      "acc: 0.47\n"
     ]
    }
   ],
   "source": [
    "score,acc, *anything_else = model.evaluate(X_test, Y_test, verbose = 2, batch_size = batch_size)\n",
    "\n",
    "print(\"acc: %.2f\" % (acc))"
   ]
  },
  {
   "cell_type": "code",
   "execution_count": null,
   "metadata": {
    "id": "ydfUgsOtAZ0E"
   },
   "outputs": [],
   "source": [
    "from sklearn.metrics import confusion_matrix,classification_report"
   ]
  },
  {
   "cell_type": "code",
   "execution_count": null,
   "metadata": {
    "id": "k-HvYOOzfyMa"
   },
   "outputs": [],
   "source": [
    "cf_matrix = confusion_matrix(Y_test.argmax(axis=1),prediction_classes)"
   ]
  },
  {
   "cell_type": "code",
   "execution_count": null,
   "metadata": {
    "colab": {
     "base_uri": "https://localhost:8080/"
    },
    "id": "HtnBDu50fz4f",
    "outputId": "f72faae1-ccdb-4942-fc10-dfa76072594c"
   },
   "outputs": [
    {
     "data": {
      "text/plain": [
       "array([[1543,  463,   19],\n",
       "       [ 451,  444,   51],\n",
       "       [ 717,  961,  350]])"
      ]
     },
     "execution_count": 89,
     "metadata": {},
     "output_type": "execute_result"
    }
   ],
   "source": [
    "cf_matrix"
   ]
  },
  {
   "cell_type": "code",
   "execution_count": null,
   "metadata": {
    "colab": {
     "base_uri": "https://localhost:8080/",
     "height": 283
    },
    "id": "WvxZ5aePfz--",
    "outputId": "b792d0dd-40c8-4023-d108-75d598cbc822"
   },
   "outputs": [
    {
     "data": {
      "text/plain": [
       "<matplotlib.axes._subplots.AxesSubplot at 0x7f95a02559d0>"
      ]
     },
     "execution_count": 90,
     "metadata": {},
     "output_type": "execute_result"
    },
    {
     "data": {
      "image/png": "[encoded data removed]",
      "text/plain": [
       "<Figure size 432x288 with 2 Axes>"
      ]
     },
     "metadata": {
      "needs_background": "light"
     },
     "output_type": "display_data"
    }
   ],
   "source": [
    "import seaborn as sns\n",
    "\n",
    "#group_names = ['True Neg','False Pos','False Neg','True Pos', ]\n",
    "group_counts = [\"{0:0.0f}\".format(value) for value in\n",
    "                cf_matrix.flatten()]\n",
    "group_percentages = [\"{0:.2%}\".format(value) for value in\n",
    "                     cf_matrix.flatten()/np.sum(cf_matrix)]\n",
    "#labels = [f\"{v1}\\n{v2}\\n{v3}\" for v1, v2, v3 in zip(group_names,group_counts,group_percentages)]\n",
    "labels = [f\"{v2}\\n{v3}\" for v2, v3 in zip(group_counts,group_percentages)]\n",
    "\n",
    "labels = np.asarray(labels).reshape(3,3)\n",
    "\n",
    "sns.heatmap(cf_matrix, annot=labels, fmt='', cmap='Blues')"
   ]
  },
  {
   "cell_type": "code",
   "execution_count": null,
   "metadata": {
    "colab": {
     "base_uri": "https://localhost:8080/"
    },
    "id": "MZrRi0Y3PP5D",
    "outputId": "8a28c3d8-0930-469a-ac01-df9e880527d1"
   },
   "outputs": [
    {
     "name": "stdout",
     "output_type": "stream",
     "text": [
      "              precision    recall  f1-score   support\n",
      "\n",
      "           0       0.57      0.76      0.65      2025\n",
      "           1       0.24      0.47      0.32       946\n",
      "           2       0.83      0.17      0.29      2028\n",
      "\n",
      "    accuracy                           0.47      4999\n",
      "   macro avg       0.55      0.47      0.42      4999\n",
      "weighted avg       0.61      0.47      0.44      4999\n",
      "\n"
     ]
    }
   ],
   "source": [
    "print(classification_report(Y_test.argmax(axis=1),prediction_classes))"
   ]
  },
  {
   "cell_type": "markdown",
   "metadata": {
    "id": "R4kgzap6Co_l"
   },
   "source": [
    "As we can see the performance is better than the one with 5 categories."
   ]
  }
 ],
 "metadata": {
  "_change_revision": 0,
  "_is_fork": false,
  "colab": {
   "collapsed_sections": [],
   "name": "Copia_di_project3_neural_networks.ipynb",
   "provenance": []
  },
  "kernelspec": {
   "display_name": "Python 3",
   "language": "python",
   "name": "python3"
  },
  "language_info": {
   "codemirror_mode": {
    "name": "ipython",
    "version": 3
   },
   "file_extension": ".py",
   "mimetype": "text/x-python",
   "name": "python",
   "nbconvert_exporter": "python",
   "pygments_lexer": "ipython3",
   "version": "3.8.5"
  }
 },
 "nbformat": 4,
 "nbformat_minor": 1
}
